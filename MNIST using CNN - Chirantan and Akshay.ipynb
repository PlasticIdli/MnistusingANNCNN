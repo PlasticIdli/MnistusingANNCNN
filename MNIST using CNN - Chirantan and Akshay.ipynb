{
 "cells": [
  {
   "cell_type": "code",
   "execution_count": 25,
   "metadata": {
    "id": "AlCrHmWHVCUL"
   },
   "outputs": [],
   "source": [
    "import tensorflow as tf\n",
    "from tensorflow.keras import datasets, layers, models\n",
    "import matplotlib.pyplot as plt"
   ]
  },
  {
   "cell_type": "code",
   "execution_count": 26,
   "metadata": {
    "id": "qzlLHYuGay_w"
   },
   "outputs": [],
   "source": [
    "from keras.datasets import mnist\n",
    "(X_train, y_train), (X_test, y_test) = mnist.load_data()"
   ]
  },
  {
   "cell_type": "code",
   "execution_count": 27,
   "metadata": {
    "colab": {
     "base_uri": "https://localhost:8080/"
    },
    "id": "gg3FeH-A3T-z",
    "outputId": "98e45738-a62e-4897-dc0b-62973c037dea"
   },
   "outputs": [
    {
     "name": "stdout",
     "output_type": "stream",
     "text": [
      "X_train shape (60000, 28, 28)\n",
      "y_train shape (60000,)\n",
      "X_test shape (10000, 28, 28)\n",
      "y_test shape (10000,)\n"
     ]
    }
   ],
   "source": [
    "print(\"X_train shape\", X_train.shape)\n",
    "print(\"y_train shape\", y_train.shape)\n",
    "print(\"X_test shape\", X_test.shape)\n",
    "print(\"y_test shape\", y_test.shape)"
   ]
  },
  {
   "cell_type": "code",
   "execution_count": 28,
   "metadata": {
    "colab": {
     "base_uri": "https://localhost:8080/",
     "height": 578
    },
    "id": "0yTDMZsJ4ijT",
    "outputId": "30b776b0-f2bf-4bbe-8157-17dce910d500"
   },
   "outputs": [
    {
     "data": {
      "image/png": "[encoded data removed]",
      "text/plain": [
       "<Figure size 720x720 with 25 Axes>"
      ]
     },
     "metadata": {
      "tags": []
     },
     "output_type": "display_data"
    }
   ],
   "source": [
    "class_names = ['T-shirt/top', 'Trouser', 'Pullover', 'Dress', 'Coat',\n",
    "               'Sandal', 'Shirt', 'Sneaker', 'Bag', 'Ankle boot']\n",
    "plt.figure(figsize=(10,10))\n",
    "for i in range(25):\n",
    "    plt.subplot(5,5,i+1)\n",
    "    plt.xticks([])\n",
    "    plt.yticks([])\n",
    "    plt.grid(False)\n",
    "    plt.imshow(X_train[i], cmap=plt.cm.binary)\n",
    "plt.show()"
   ]
  },
  {
   "cell_type": "code",
   "execution_count": 29,
   "metadata": {
    "id": "epyTBZ3T3q_p"
   },
   "outputs": [],
   "source": [
    "X_train = X_train.reshape(X_train.shape[0], 28, 28, 1)\n",
    "X_test = X_test.reshape(X_test.shape[0], 28, 28, 1)\n",
    "X_train = X_train.astype('float32')\n",
    "X_test = X_test.astype('float32')"
   ]
  },
  {
   "cell_type": "code",
   "execution_count": 30,
   "metadata": {
    "id": "Rthmrhag3rC2"
   },
   "outputs": [],
   "source": [
    "X_train /= 255\n",
    "X_test /= 255"
   ]
  },
  {
   "cell_type": "code",
   "execution_count": 31,
   "metadata": {
    "colab": {
     "base_uri": "https://localhost:8080/"
    },
    "id": "X1zyatCf3rFr",
    "outputId": "201485ff-511c-45ec-8015-f26436c00d07"
   },
   "outputs": [
    {
     "name": "stdout",
     "output_type": "stream",
     "text": [
      "Shape before one-hot encoding:  (60000,)\n",
      "Shape after one-hot encoding:  (60000, 10)\n"
     ]
    }
   ],
   "source": [
    "from keras.utils import np_utils\n",
    "n_classes = 10\n",
    "print(\"Shape before one-hot encoding: \", y_train.shape)\n",
    "Y_train = np_utils.to_categorical(y_train, n_classes)\n",
    "Y_test = np_utils.to_categorical(y_test, n_classes)\n",
    "print(\"Shape after one-hot encoding: \", Y_train.shape)"
   ]
  },
  {
   "cell_type": "code",
   "execution_count": 33,
   "metadata": {
    "id": "IDpXD1OTcdVE"
   },
   "outputs": [],
   "source": [
    "from keras.layers import Dense, Dropout, Conv2D, MaxPool2D, Flatten\n",
    "from keras.models import Sequential"
   ]
  },
  {
   "cell_type": "code",
   "execution_count": 36,
   "metadata": {
    "id": "J86RqllkuP2q"
   },
   "outputs": [],
   "source": [
    "model = tf.keras.Sequential([\n",
    "# convolutional layer\n",
    "  layers.Conv2D(25, 3, activation='relu',input_shape=(28,28,1)),\n",
    "  layers.MaxPooling2D(),\n",
    "  layers.Conv2D(50, 3, activation='relu'),\n",
    "  layers.MaxPooling2D(),\n",
    "  layers.Conv2D(75, 3, activation='relu'),\n",
    "# flatten output of conv\n",
    "  layers.Flatten(),\n",
    "# hidden layer\n",
    "  layers.Dense(500, activation='relu'),\n",
    "  layers.Dropout(0.4),\n",
    "  layers.Dense(250, activation='relu'),\n",
    "  layers.Dropout(0.3),\n",
    "# output layer\n",
    "  layers.Dense(10, activation='softmax'),\n",
    "])"
   ]
  },
  {
   "cell_type": "code",
   "execution_count": 37,
   "metadata": {
    "colab": {
     "base_uri": "https://localhost:8080/"
    },
    "id": "97beIt3wcdX4",
    "outputId": "fa2495f2-5bd9-4e3c-dea9-d1013432f8bf"
   },
   "outputs": [
    {
     "name": "stdout",
     "output_type": "stream",
     "text": [
      "Model: \"sequential_4\"\n",
      "_________________________________________________________________\n",
      "Layer (type)                 Output Shape              Param #   \n",
      "=================================================================\n",
      "conv2d_7 (Conv2D)            (None, 26, 26, 25)        250       \n",
      "_________________________________________________________________\n",
      "max_pooling2d_5 (MaxPooling2 (None, 13, 13, 25)        0         \n",
      "_________________________________________________________________\n",
      "conv2d_8 (Conv2D)            (None, 11, 11, 50)        11300     \n",
      "_________________________________________________________________\n",
      "max_pooling2d_6 (MaxPooling2 (None, 5, 5, 50)          0         \n",
      "_________________________________________________________________\n",
      "conv2d_9 (Conv2D)            (None, 3, 3, 75)          33825     \n",
      "_________________________________________________________________\n",
      "flatten_3 (Flatten)          (None, 675)               0         \n",
      "_________________________________________________________________\n",
      "dense_9 (Dense)              (None, 500)               338000    \n",
      "_________________________________________________________________\n",
      "dropout_9 (Dropout)          (None, 500)               0         \n",
      "_________________________________________________________________\n",
      "dense_10 (Dense)             (None, 250)               125250    \n",
      "_________________________________________________________________\n",
      "dropout_10 (Dropout)         (None, 250)               0         \n",
      "_________________________________________________________________\n",
      "dense_11 (Dense)             (None, 10)                2510      \n",
      "=================================================================\n",
      "Total params: 511,135\n",
      "Trainable params: 511,135\n",
      "Non-trainable params: 0\n",
      "_________________________________________________________________\n"
     ]
    }
   ],
   "source": [
    "model.summary()"
   ]
  },
  {
   "cell_type": "code",
   "execution_count": 38,
   "metadata": {
    "colab": {
     "base_uri": "https://localhost:8080/"
    },
    "id": "i8SxQwm7cdag",
    "outputId": "6de82161-9eab-4189-8e8c-5335ceafafda"
   },
   "outputs": [
    {
     "name": "stdout",
     "output_type": "stream",
     "text": [
      "Epoch 1/10\n",
      "469/469 [==============================] - 42s 88ms/step - loss: 0.5221 - accuracy: 0.8321 - val_loss: 0.0444 - val_accuracy: 0.9859\n",
      "Epoch 2/10\n",
      "469/469 [==============================] - 40s 86ms/step - loss: 0.0618 - accuracy: 0.9813 - val_loss: 0.0459 - val_accuracy: 0.9855\n",
      "Epoch 3/10\n",
      "469/469 [==============================] - 41s 86ms/step - loss: 0.0488 - accuracy: 0.9851 - val_loss: 0.0294 - val_accuracy: 0.9906\n",
      "Epoch 4/10\n",
      "469/469 [==============================] - 40s 86ms/step - loss: 0.0309 - accuracy: 0.9904 - val_loss: 0.0303 - val_accuracy: 0.9909\n",
      "Epoch 5/10\n",
      "469/469 [==============================] - 41s 87ms/step - loss: 0.0263 - accuracy: 0.9919 - val_loss: 0.0337 - val_accuracy: 0.9906\n",
      "Epoch 6/10\n",
      "469/469 [==============================] - 41s 87ms/step - loss: 0.0226 - accuracy: 0.9935 - val_loss: 0.0346 - val_accuracy: 0.9902\n",
      "Epoch 7/10\n",
      "469/469 [==============================] - 40s 86ms/step - loss: 0.0200 - accuracy: 0.9940 - val_loss: 0.0275 - val_accuracy: 0.9921\n",
      "Epoch 8/10\n",
      "469/469 [==============================] - 41s 87ms/step - loss: 0.0174 - accuracy: 0.9947 - val_loss: 0.0287 - val_accuracy: 0.9921\n",
      "Epoch 9/10\n",
      "469/469 [==============================] - 40s 86ms/step - loss: 0.0169 - accuracy: 0.9949 - val_loss: 0.0375 - val_accuracy: 0.9900\n",
      "Epoch 10/10\n",
      "469/469 [==============================] - 40s 86ms/step - loss: 0.0125 - accuracy: 0.9963 - val_loss: 0.0347 - val_accuracy: 0.9904\n"
     ]
    }
   ],
   "source": [
    "model.compile(loss='categorical_crossentropy', metrics=['accuracy'], optimizer='adam')\n",
    "\n",
    "# training the model for 10 epochs\n",
    "history = model.fit(X_train, Y_train, batch_size=128, epochs=10, validation_data=(X_test, Y_test))"
   ]
  },
  {
   "cell_type": "code",
   "execution_count": 39,
   "metadata": {
    "colab": {
     "base_uri": "https://localhost:8080/"
    },
    "id": "kvMiNA8C-lEw",
    "outputId": "e256459c-a27f-4c36-e6ea-0e3f0b5070ba"
   },
   "outputs": [
    {
     "name": "stdout",
     "output_type": "stream",
     "text": [
      "\n",
      " Test accuracy: 0.9904000163078308\n"
     ]
    }
   ],
   "source": [
    "score = model.evaluate(X_test, Y_test, verbose=0)\n",
    "# Print test accuracy\n",
    "print('\\n', 'Test accuracy:', score[1])"
   ]
  },
  {
   "cell_type": "code",
   "execution_count": 40,
   "metadata": {
    "colab": {
     "base_uri": "https://localhost:8080/",
     "height": 370
    },
    "id": "mH42GwRPKuay",
    "outputId": "5e5f6f4b-3f55-4087-86e4-767552a5069a"
   },
   "outputs": [
    {
     "data": {
      "image/png": "[encoded data removed]",
      "text/plain": [
       "<Figure size 1008x360 with 2 Axes>"
      ]
     },
     "metadata": {
      "needs_background": "light",
      "tags": []
     },
     "output_type": "display_data"
    }
   ],
   "source": [
    "plt.figure(figsize=(14,5))\n",
    "plt.subplot(1, 2, 1)\n",
    "plt.suptitle('Train Results', fontsize=10)\n",
    "plt.xlabel(\"Number of Epochs\")\n",
    "plt.ylabel('Loss', fontsize=16)\n",
    "plt.plot(history.history['loss'], color='b', label='Training Loss')\n",
    "plt.plot(history.history['val_loss'], color='r', label='Validation Loss')\n",
    "plt.legend(loc='upper right')\n",
    "\n",
    "plt.subplot(1, 2, 2)\n",
    "plt.ylabel('Accuracy', fontsize=16)\n",
    "plt.plot(history.history['accuracy'], color='green', label='Training Accuracy')\n",
    "plt.plot(history.history['val_accuracy'], color='orange', label='Validation Accuracy')\n",
    "plt.legend(loc='lower right')\n",
    "plt.show()"
   ]
  }
 ],
 "metadata": {
  "colab": {
   "name": "Project CNN.ipynb",
   "provenance": []
  },
  "kernelspec": {
   "display_name": "Python 3",
   "language": "python",
   "name": "python3"
  },
  "language_info": {
   "codemirror_mode": {
    "name": "ipython",
    "version": 3
   },
   "file_extension": ".py",
   "mimetype": "text/x-python",
   "name": "python",
   "nbconvert_exporter": "python",
   "pygments_lexer": "ipython3",
   "version": "3.8.3"
  }
 },
 "nbformat": 4,
 "nbformat_minor": 1
}
