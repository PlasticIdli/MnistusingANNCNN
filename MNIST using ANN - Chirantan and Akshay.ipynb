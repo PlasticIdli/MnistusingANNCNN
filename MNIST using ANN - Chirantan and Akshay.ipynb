{
 "cells": [
  {
   "cell_type": "code",
   "execution_count": 1,
   "metadata": {
    "_cell_guid": "b1076dfc-b9ad-4769-8c92-a6c4dae69d19",
    "_uuid": "8f2839f25d086af736a60e9eeb907d3b93b6e0e5"
   },
   "outputs": [],
   "source": [
    "import numpy as np \n",
    "import pandas as pd\n",
    "import seaborn as sns\n",
    "import matplotlib.pyplot as plt\n",
    "%matplotlib inline\n"
   ]
  },
  {
   "cell_type": "code",
   "execution_count": 3,
   "metadata": {
    "_cell_guid": "79c7e3d0-c299-4dcb-8224-4455121ee9b0",
    "_uuid": "d629ff2d2480ee46fbb7e2d37f6b5fab8052498a"
   },
   "outputs": [],
   "source": [
    "dataset = pd.read_csv(r'C:\\Users\\lonka\\OneDrive\\Desktop\\Excel files\\MNIST\\train.csv')\n",
    "X = dataset.iloc[:, 1:].values\n",
    "y = dataset.iloc[:, 0].values"
   ]
  },
  {
   "cell_type": "markdown",
   "metadata": {
    "_uuid": "6375e90f75d90f2fdbe35daadc5b905b27639a01"
   },
   "source": [
    "### Checking distribution of data"
   ]
  },
  {
   "cell_type": "code",
   "execution_count": 4,
   "metadata": {
    "_uuid": "d08c57305560058d35adb34e65e90449ee4ae01c"
   },
   "outputs": [
    {
     "name": "stderr",
     "output_type": "stream",
     "text": [
      "C:\\Users\\lonka\\anaconda3\\lib\\site-packages\\seaborn\\_decorators.py:36: FutureWarning: Pass the following variable as a keyword arg: x. From version 0.12, the only valid positional argument will be `data`, and passing other arguments without an explicit keyword will result in an error or misinterpretation.\n",
      "  warnings.warn(\n"
     ]
    },
    {
     "data": {
      "text/plain": [
       "<matplotlib.axes._subplots.AxesSubplot at 0x2f24612c640>"
      ]
     },
     "execution_count": 4,
     "metadata": {},
     "output_type": "execute_result"
    },
    {
     "data": {
      "image/png": "[encoded data removed]",
      "text/plain": [
       "<Figure size 432x288 with 1 Axes>"
      ]
     },
     "metadata": {
      "needs_background": "light"
     },
     "output_type": "display_data"
    }
   ],
   "source": [
    "import seaborn as sns\n",
    "sns.countplot(y)"
   ]
  },
  {
   "cell_type": "markdown",
   "metadata": {
    "_uuid": "5f94219c3b6ad9629fd84efab2d3842b835a8583"
   },
   "source": [
    "### Check for Null Values"
   ]
  },
  {
   "cell_type": "code",
   "execution_count": 5,
   "metadata": {
    "_uuid": "ff2e7826b9d11944d46987133521ef6cbf067ed3"
   },
   "outputs": [
    {
     "data": {
      "text/plain": [
       "False"
      ]
     },
     "execution_count": 5,
     "metadata": {},
     "output_type": "execute_result"
    }
   ],
   "source": [
    "# Check IF some Feature variables are NaN\n",
    "np.unique(np.isnan(X))[0]"
   ]
  },
  {
   "cell_type": "code",
   "execution_count": 6,
   "metadata": {
    "_uuid": "a0d2d5f310ad3b96c1564056d12f93b0c0f8f286"
   },
   "outputs": [
    {
     "data": {
      "text/plain": [
       "False"
      ]
     },
     "execution_count": 6,
     "metadata": {},
     "output_type": "execute_result"
    }
   ],
   "source": [
    "# Check IF some Target Variables are NaN\n",
    "np.unique(np.isnan(y))[0]"
   ]
  },
  {
   "cell_type": "markdown",
   "metadata": {
    "_uuid": "45ba14f907f56a81502f61129ae4bf196f17cfaa"
   },
   "source": [
    "### Splitting Dataset into Training set and Test set"
   ]
  },
  {
   "cell_type": "code",
   "execution_count": 7,
   "metadata": {
    "_uuid": "14c921903a7d9183d9780e1ef760f486f2a83d7b"
   },
   "outputs": [],
   "source": [
    "from sklearn.model_selection import train_test_split\n",
    "X_train, X_test, y_train, y_test = train_test_split(X, y, test_size = 0.1, random_state = 42)"
   ]
  },
  {
   "cell_type": "markdown",
   "metadata": {
    "_uuid": "16c4f831586df4b87f4e15f310f603d3c9fd37ff"
   },
   "source": [
    "### Feature Scaling\n"
   ]
  },
  {
   "cell_type": "code",
   "execution_count": 8,
   "metadata": {
    "_uuid": "d662f5755f5132a4e78272119045afcc1a8dbd81"
   },
   "outputs": [],
   "source": [
    "# Feature Scaling\n",
    "from sklearn.preprocessing import StandardScaler\n",
    "sc = StandardScaler()\n",
    "X_train = sc.fit_transform(X_train)\n",
    "X_test = sc.transform(X_test)"
   ]
  },
  {
   "cell_type": "markdown",
   "metadata": {
    "_uuid": "25b22e3aa804099805aac3682a9ac67e1ec0c18f"
   },
   "source": [
    "### Encoding Categorical Data into Continuous Variable"
   ]
  },
  {
   "cell_type": "code",
   "execution_count": 9,
   "metadata": {
    "_uuid": "3289f2ad6af411f0fa4c40e839ef7f90e65a321e"
   },
   "outputs": [],
   "source": [
    "from keras.utils import np_utils\n",
    "y_train = np_utils.to_categorical(y_train)\n",
    "y_test = np_utils.to_categorical(y_test)"
   ]
  },
  {
   "cell_type": "markdown",
   "metadata": {
    "_uuid": "2996b88ea91fbb0ed437999289de501e77c13bdb"
   },
   "source": [
    "# 2. Building our ANN"
   ]
  },
  {
   "cell_type": "markdown",
   "metadata": {
    "_uuid": "23acb099507a12caa9c3c1185d89973de742289f"
   },
   "source": [
    "### Importing the Keras libraries and packages"
   ]
  },
  {
   "cell_type": "code",
   "execution_count": 11,
   "metadata": {
    "_uuid": "32c39d1d35522c50c146f400e8e1ee29b164451a"
   },
   "outputs": [],
   "source": [
    "# Importing the Keras libraries and packages\n",
    "import keras\n",
    "from keras.models import Sequential\n",
    "from keras.layers import Dense, Dropout"
   ]
  },
  {
   "cell_type": "markdown",
   "metadata": {
    "_uuid": "edf70ba24629d51d23fe1c8811f94f679003a83f"
   },
   "source": [
    "### Initialising the ANN Model"
   ]
  },
  {
   "cell_type": "code",
   "execution_count": 12,
   "metadata": {
    "_uuid": "636a97aa5fdca7ab770681650dea6d9c18fff863"
   },
   "outputs": [],
   "source": [
    "# Initialising the ANN\n",
    "classifier = Sequential()"
   ]
  },
  {
   "cell_type": "markdown",
   "metadata": {
    "_uuid": "a7d3e1599e3c5b27d63201cea75d69cf50f8c329"
   },
   "source": [
    "### Adding Input Layer and Hidden Layers"
   ]
  },
  {
   "cell_type": "code",
   "execution_count": 13,
   "metadata": {
    "_uuid": "03dc387f40672811fcf680b428ffe7157a51d0a9"
   },
   "outputs": [],
   "source": [
    "# Adding the input layer and the first hidden layer\n",
    "classifier.add(Dense(units = 784, activation = 'relu', input_dim = 784))\n",
    "\n",
    "# Adding the second hidden layer\n",
    "classifier.add(Dense(units = 128, activation = 'relu'))\n",
    "classifier.add(Dense(units = 128, activation = 'relu'))\n",
    "classifier.add(Dropout(0.2))\n",
    "\n",
    "classifier.add(Dense(units = 64, activation = 'relu'))\n",
    "classifier.add(Dense(units = 64, activation = 'relu'))\n",
    "classifier.add(Dropout(0.2))\n",
    "\n",
    "classifier.add(Dense(units = 32, activation = 'relu'))\n",
    "classifier.add(Dense(units = 32, activation = 'relu'))\n",
    "classifier.add(Dropout(0.05))"
   ]
  },
  {
   "cell_type": "markdown",
   "metadata": {
    "_uuid": "3ea7961ea2563efd0a9d8b5dc1040213b8b82013"
   },
   "source": [
    "### Adding Output Layer"
   ]
  },
  {
   "cell_type": "code",
   "execution_count": 14,
   "metadata": {
    "_uuid": "33b9496ebe139f59fc9cb745a531ed6693c9d980"
   },
   "outputs": [],
   "source": [
    "# Adding the output layer\n",
    "classifier.add(Dense(units = 10, activation = 'softmax'))"
   ]
  },
  {
   "cell_type": "markdown",
   "metadata": {
    "_uuid": "1c25b075434a0eb32672896c4fbdbae9b558278b"
   },
   "source": [
    "### Compiling our Model"
   ]
  },
  {
   "cell_type": "code",
   "execution_count": 15,
   "metadata": {
    "_uuid": "68ac0731b24057865d186837742262d1a7890fae"
   },
   "outputs": [],
   "source": [
    "# Compiling the ANN\n",
    "classifier.compile(optimizer = 'sgd', loss = 'categorical_crossentropy', metrics = ['accuracy'])"
   ]
  },
  {
   "cell_type": "markdown",
   "metadata": {
    "_uuid": "211202c5f3197de3b51a87aeaf775165a3e71e27"
   },
   "source": [
    "# 3. Training our ANN"
   ]
  },
  {
   "cell_type": "markdown",
   "metadata": {
    "_uuid": "07307655c1b27f75c566760f91fa79abf2183985"
   },
   "source": [
    "### Fitting the ANN to the Training set"
   ]
  },
  {
   "cell_type": "code",
   "execution_count": 16,
   "metadata": {
    "_uuid": "f3363659de8a1d3504e388f500394eaf9f61604d"
   },
   "outputs": [
    {
     "name": "stdout",
     "output_type": "stream",
     "text": [
      "Epoch 1/25\n",
      "1350/1350 [==============================] - 9s 7ms/step - loss: 1.1663 - accuracy: 0.6085 - val_loss: 0.4382 - val_accuracy: 0.9029\n",
      "Epoch 2/25\n",
      "1350/1350 [==============================] - 9s 7ms/step - loss: 0.3492 - accuracy: 0.9047 - val_loss: 0.2382 - val_accuracy: 0.9331\n",
      "Epoch 3/25\n",
      "1350/1350 [==============================] - 9s 7ms/step - loss: 0.2239 - accuracy: 0.9392 - val_loss: 0.1921 - val_accuracy: 0.9431\n",
      "Epoch 4/25\n",
      "1350/1350 [==============================] - 9s 7ms/step - loss: 0.1697 - accuracy: 0.9547 - val_loss: 0.1917 - val_accuracy: 0.9500\n",
      "Epoch 5/25\n",
      "1350/1350 [==============================] - 9s 7ms/step - loss: 0.1302 - accuracy: 0.9646 - val_loss: 0.1632 - val_accuracy: 0.9550\n",
      "Epoch 6/25\n",
      "1350/1350 [==============================] - 9s 7ms/step - loss: 0.1021 - accuracy: 0.9732 - val_loss: 0.1644 - val_accuracy: 0.9593\n",
      "Epoch 7/25\n",
      "1350/1350 [==============================] - 9s 7ms/step - loss: 0.0818 - accuracy: 0.9775 - val_loss: 0.1665 - val_accuracy: 0.9605\n",
      "Epoch 8/25\n",
      "1350/1350 [==============================] - 9s 7ms/step - loss: 0.0650 - accuracy: 0.9819 - val_loss: 0.1657 - val_accuracy: 0.9621\n",
      "Epoch 9/25\n",
      "1350/1350 [==============================] - 9s 7ms/step - loss: 0.0556 - accuracy: 0.9844 - val_loss: 0.1584 - val_accuracy: 0.9631\n",
      "Epoch 10/25\n",
      "1350/1350 [==============================] - 11s 8ms/step - loss: 0.0444 - accuracy: 0.9880 - val_loss: 0.1668 - val_accuracy: 0.9648\n",
      "Epoch 11/25\n",
      "1350/1350 [==============================] - 11s 8ms/step - loss: 0.0427 - accuracy: 0.9884 - val_loss: 0.1899 - val_accuracy: 0.9638\n",
      "Epoch 12/25\n",
      "1350/1350 [==============================] - 9s 7ms/step - loss: 0.0359 - accuracy: 0.9906 - val_loss: 0.1798 - val_accuracy: 0.9617\n",
      "Epoch 13/25\n",
      "1350/1350 [==============================] - 9s 7ms/step - loss: 0.0326 - accuracy: 0.9916 - val_loss: 0.1726 - val_accuracy: 0.9621\n",
      "Epoch 14/25\n",
      "1350/1350 [==============================] - 10s 7ms/step - loss: 0.0260 - accuracy: 0.9935 - val_loss: 0.2079 - val_accuracy: 0.9640\n",
      "Epoch 15/25\n",
      "1350/1350 [==============================] - 9s 7ms/step - loss: 0.0249 - accuracy: 0.9935 - val_loss: 0.1848 - val_accuracy: 0.9655\n",
      "Epoch 16/25\n",
      "1350/1350 [==============================] - 9s 7ms/step - loss: 0.0217 - accuracy: 0.9949 - val_loss: 0.2018 - val_accuracy: 0.9650\n",
      "Epoch 17/25\n",
      "1350/1350 [==============================] - 9s 7ms/step - loss: 0.0196 - accuracy: 0.9952 - val_loss: 0.1834 - val_accuracy: 0.9667\n",
      "Epoch 18/25\n",
      "1350/1350 [==============================] - 9s 7ms/step - loss: 0.0157 - accuracy: 0.9964 - val_loss: 0.1837 - val_accuracy: 0.9695\n",
      "Epoch 19/25\n",
      "1350/1350 [==============================] - 10s 7ms/step - loss: 0.0165 - accuracy: 0.9955 - val_loss: 0.1988 - val_accuracy: 0.9686\n",
      "Epoch 20/25\n",
      "1350/1350 [==============================] - 9s 7ms/step - loss: 0.0129 - accuracy: 0.9966 - val_loss: 0.1911 - val_accuracy: 0.9693\n",
      "Epoch 21/25\n",
      "1350/1350 [==============================] - 9s 7ms/step - loss: 0.0140 - accuracy: 0.9965 - val_loss: 0.2174 - val_accuracy: 0.9683\n",
      "Epoch 22/25\n",
      "1350/1350 [==============================] - 9s 7ms/step - loss: 0.0158 - accuracy: 0.9960 - val_loss: 0.2242 - val_accuracy: 0.9652\n",
      "Epoch 23/25\n",
      "1350/1350 [==============================] - 9s 7ms/step - loss: 0.0152 - accuracy: 0.9962 - val_loss: 0.2009 - val_accuracy: 0.9686\n",
      "Epoch 24/25\n",
      "1350/1350 [==============================] - 9s 7ms/step - loss: 0.0105 - accuracy: 0.9974 - val_loss: 0.2181 - val_accuracy: 0.9671\n",
      "Epoch 25/25\n",
      "1350/1350 [==============================] - 9s 7ms/step - loss: 0.0116 - accuracy: 0.9968 - val_loss: 0.2271 - val_accuracy: 0.9683\n"
     ]
    },
    {
     "ename": "KeyError",
     "evalue": "'acc'",
     "output_type": "error",
     "traceback": [
      "\u001b[1;31m---------------------------------------------------------------------------\u001b[0m",
      "\u001b[1;31mKeyError\u001b[0m                                  Traceback (most recent call last)",
      "\u001b[1;32m<ipython-input-16-560e9374a4e2>\u001b[0m in \u001b[0;36m<module>\u001b[1;34m\u001b[0m\n\u001b[0;32m      6\u001b[0m \u001b[1;33m\u001b[0m\u001b[0m\n\u001b[0;32m      7\u001b[0m \u001b[1;31m# Plot training & validation accuracy values\u001b[0m\u001b[1;33m\u001b[0m\u001b[1;33m\u001b[0m\u001b[1;33m\u001b[0m\u001b[0m\n\u001b[1;32m----> 8\u001b[1;33m \u001b[0mplt\u001b[0m\u001b[1;33m.\u001b[0m\u001b[0mplot\u001b[0m\u001b[1;33m(\u001b[0m\u001b[0mhistory\u001b[0m\u001b[1;33m.\u001b[0m\u001b[0mhistory\u001b[0m\u001b[1;33m[\u001b[0m\u001b[1;34m'acc'\u001b[0m\u001b[1;33m]\u001b[0m\u001b[1;33m)\u001b[0m\u001b[1;33m\u001b[0m\u001b[1;33m\u001b[0m\u001b[0m\n\u001b[0m\u001b[0;32m      9\u001b[0m \u001b[0mplt\u001b[0m\u001b[1;33m.\u001b[0m\u001b[0mplot\u001b[0m\u001b[1;33m(\u001b[0m\u001b[0mhistory\u001b[0m\u001b[1;33m.\u001b[0m\u001b[0mhistory\u001b[0m\u001b[1;33m[\u001b[0m\u001b[1;34m'val_acc'\u001b[0m\u001b[1;33m]\u001b[0m\u001b[1;33m)\u001b[0m\u001b[1;33m\u001b[0m\u001b[1;33m\u001b[0m\u001b[0m\n\u001b[0;32m     10\u001b[0m \u001b[0mplt\u001b[0m\u001b[1;33m.\u001b[0m\u001b[0mtitle\u001b[0m\u001b[1;33m(\u001b[0m\u001b[1;34m'Model accuracy'\u001b[0m\u001b[1;33m)\u001b[0m\u001b[1;33m\u001b[0m\u001b[1;33m\u001b[0m\u001b[0m\n",
      "\u001b[1;31mKeyError\u001b[0m: 'acc'"
     ]
    }
   ],
   "source": [
    "# Fitting the ANN to the Training set\n",
    "history = classifier.fit(X_train, y_train, \n",
    "                         validation_data = (X_test, y_test), \n",
    "                         batch_size = 28, \n",
    "                         epochs = 25)\n",
    "\n",
    "# Plot training & validation accuracy values\n",
    "plt.plot(history.history['acc'])\n",
    "plt.plot(history.history['val_acc'])\n",
    "plt.title('Model accuracy')\n",
    "plt.ylabel('Accuracy')\n",
    "plt.xlabel('Epoch')\n",
    "plt.legend(['Train', 'Test'], loc='upper left')\n",
    "plt.show()\n",
    "\n",
    "# Plot training & validation loss values\n",
    "plt.plot(history.history['loss'])\n",
    "plt.plot(history.history['val_loss'])\n",
    "plt.title('Model loss')\n",
    "plt.ylabel('Loss')\n",
    "plt.xlabel('Epoch')\n",
    "plt.legend(['Train', 'Test'], loc='upper left')\n",
    "plt.show()\n"
   ]
  },
  {
   "cell_type": "markdown",
   "metadata": {
    "_uuid": "d04145a4073997158fb3cc2620c8cd3466567962"
   },
   "source": [
    "# 4. Perfomance Evaluation"
   ]
  },
  {
   "cell_type": "markdown",
   "metadata": {
    "_uuid": "35f1e8f590153f1cf812e173dce6a9d9bbe0f2a5"
   },
   "source": [
    "### Accuracy of Model"
   ]
  },
  {
   "cell_type": "code",
   "execution_count": 17,
   "metadata": {
    "_uuid": "de9c447088633478c939af7b9bdc4c8934852d7a"
   },
   "outputs": [
    {
     "name": "stdout",
     "output_type": "stream",
     "text": [
      "132/132 [==============================] - 0s 4ms/step - loss: 0.2271 - accuracy: 0.9683\n",
      " Model Accuracy is : 96.8%\n"
     ]
    }
   ],
   "source": [
    "model_acc = classifier.evaluate(X_test, y_test)\n",
    "print(\" Model Accuracy is : {0:.1f}%\".format(model_acc[1]*100))"
   ]
  },
  {
   "cell_type": "markdown",
   "metadata": {
    "_uuid": "51e2a046c96df45867785df3907ac4e7cc8e3e1a"
   },
   "source": [
    "### Import the Test Data"
   ]
  },
  {
   "cell_type": "code",
   "execution_count": 19,
   "metadata": {
    "_uuid": "a26b0c483df9089ae39a15523eb04c59e46f8cae"
   },
   "outputs": [],
   "source": [
    "test_dataset = pd.read_csv(r'C:\\Users\\lonka\\OneDrive\\Desktop\\Excel files\\MNIST\\test.csv')\n",
    "test = test_dataset.iloc[:,:].values"
   ]
  },
  {
   "cell_type": "markdown",
   "metadata": {
    "_uuid": "4ab6233ed4de62a3be6808c9a963f87a62289946"
   },
   "source": [
    "### Make Predictions for ' test ' data"
   ]
  },
  {
   "cell_type": "code",
   "execution_count": 20,
   "metadata": {
    "_uuid": "45c857f050cbeb6ee275a5dcd7811c62dbfa0aa4"
   },
   "outputs": [],
   "source": [
    "# Prediction\n",
    "test_pred = classifier.predict(test)\n",
    "\n",
    "# Mark probability score > 0.5 as Predicted Label, axis = 1 means insert column-wise \n",
    "results = test_pred.argmax(axis=1)"
   ]
  },
  {
   "cell_type": "markdown",
   "metadata": {
    "_uuid": "54d826eaf42bdcff7ed1f8c558f41000d123b9c7"
   },
   "source": [
    "### Visualize some test results"
   ]
  },
  {
   "cell_type": "code",
   "execution_count": 21,
   "metadata": {
    "_uuid": "e251a1ffd9d9e6b28413db487b906dfcebc2e226"
   },
   "outputs": [
    {
     "data": {
      "image/png": "[encoded data removed]",
      "text/plain": [
       "<Figure size 432x288 with 9 Axes>"
      ]
     },
     "metadata": {
      "needs_background": "light"
     },
     "output_type": "display_data"
    }
   ],
   "source": [
    "for i in range(1,10):\n",
    "    index = np.random.randint(1,28001)\n",
    "    plt.subplot(3,3,i)\n",
    "    plt.imshow(test[index].reshape(28,28))\n",
    "    plt.title(\"Predicted Label : {}\".format(results[index]))\n",
    "plt.subplots_adjust(hspace = 1.2, wspace = 1.2)\n",
    "plt.show()\n",
    "    "
   ]
  },
  {
   "cell_type": "markdown",
   "metadata": {
    "_uuid": "7fd40d5e066fe0de650e0b13decf414bd5b5e23f"
   },
   "source": [
    "### Converting  Numpy Array format to Pandas Series and then to CSV format"
   ]
  },
  {
   "cell_type": "code",
   "execution_count": 22,
   "metadata": {
    "_uuid": "1c6030d93640d7fc78de418072611348ef6de000"
   },
   "outputs": [],
   "source": [
    "results = pd.Series(results,name=\"Label\")\n",
    "submission = pd.concat([pd.Series(range(1,28001),name = \"ImageId\"),results],axis = 1)\n",
    "submission.to_csv(\"submission.csv\",index=False)"
   ]
  },
  {
   "cell_type": "markdown",
   "metadata": {
    "_uuid": "9658076b251c6fca49bb2f58a9a7eb9b664a1411"
   },
   "source": [
    "### Check Submission file for correct format"
   ]
  },
  {
   "cell_type": "code",
   "execution_count": 23,
   "metadata": {
    "_uuid": "9d424b6ecb45ad4e6db83a7eddfff0b025d76e0a"
   },
   "outputs": [
    {
     "data": {
      "text/html": [
       "<div>\n",
       "<style scoped>\n",
       "    .dataframe tbody tr th:only-of-type {\n",
       "        vertical-align: middle;\n",
       "    }\n",
       "\n",
       "    .dataframe tbody tr th {\n",
       "        vertical-align: top;\n",
       "    }\n",
       "\n",
       "    .dataframe thead th {\n",
       "        text-align: right;\n",
       "    }\n",
       "</style>\n",
       "<table border=\"1\" class=\"dataframe\">\n",
       "  <thead>\n",
       "    <tr style=\"text-align: right;\">\n",
       "      <th></th>\n",
       "      <th>ImageId</th>\n",
       "      <th>Label</th>\n",
       "    </tr>\n",
       "  </thead>\n",
       "  <tbody>\n",
       "    <tr>\n",
       "      <th>0</th>\n",
       "      <td>1</td>\n",
       "      <td>2</td>\n",
       "    </tr>\n",
       "    <tr>\n",
       "      <th>1</th>\n",
       "      <td>2</td>\n",
       "      <td>0</td>\n",
       "    </tr>\n",
       "    <tr>\n",
       "      <th>2</th>\n",
       "      <td>3</td>\n",
       "      <td>8</td>\n",
       "    </tr>\n",
       "    <tr>\n",
       "      <th>3</th>\n",
       "      <td>4</td>\n",
       "      <td>9</td>\n",
       "    </tr>\n",
       "    <tr>\n",
       "      <th>4</th>\n",
       "      <td>5</td>\n",
       "      <td>3</td>\n",
       "    </tr>\n",
       "  </tbody>\n",
       "</table>\n",
       "</div>"
      ],
      "text/plain": [
       "   ImageId  Label\n",
       "0        1      2\n",
       "1        2      0\n",
       "2        3      8\n",
       "3        4      9\n",
       "4        5      3"
      ]
     },
     "execution_count": 23,
     "metadata": {},
     "output_type": "execute_result"
    }
   ],
   "source": [
    "submission.head()"
   ]
  },
  {
   "cell_type": "code",
   "execution_count": null,
   "metadata": {},
   "outputs": [],
   "source": []
  }
 ],
 "metadata": {
  "kernelspec": {
   "display_name": "Python 3",
   "language": "python",
   "name": "python3"
  },
  "language_info": {
   "codemirror_mode": {
    "name": "ipython",
    "version": 3
   },
   "file_extension": ".py",
   "mimetype": "text/x-python",
   "name": "python",
   "nbconvert_exporter": "python",
   "pygments_lexer": "ipython3",
   "version": "3.8.3"
  }
 },
 "nbformat": 4,
 "nbformat_minor": 1
}
